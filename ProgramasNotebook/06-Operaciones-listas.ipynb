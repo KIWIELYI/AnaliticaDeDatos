{
 "cells": [
  {
   "cell_type": "markdown",
   "metadata": {},
   "source": []
  },
  {
   "cell_type": "markdown",
   "metadata": {},
   "source": []
  },
  {
   "cell_type": "markdown",
   "metadata": {},
   "source": [
    "### Slicing o Rebanadas - Indices Negativos\n",
    "\n",
    "Observa el fragmento de código a continuación:\n",
    "\n",
    "```python\n",
    "my_list[start:end]\n",
    "\n",
    "```\n",
    "\n",
    "Para confirmar:\n",
    "\n",
    "1. start es el índice del primer elemento incluido en la rebanada.\n",
    "1. end es el índice del primer elemento no incluido en la rebanada."
   ]
  },
  {
   "cell_type": "markdown",
   "metadata": {},
   "source": [
    "### Otros Ejemplos con Rebanadas\n",
    "\n",
    "Si omites el start en tu rebanada, se supone que deseas obtener un segmento que comienza en el elemento con índice 0.\n",
    "\n",
    "En otras palabras, la rebanada sería de esta forma:\n",
    "\n",
    "```python\n",
    "my_list[:end]\n",
    "```\n",
    "es un equivalente más compacto de:\n",
    "``` python\n",
    "my_list[0:end]\n",
    "```"
   ]
  },
  {
   "cell_type": "markdown",
   "metadata": {},
   "source": [
    "### Otros Ejemplos con Rebanadas\n",
    "\n",
    "Si omites el start en tu rebanada, se supone que deseas obtener un segmento que comienza en el elemento con índice 0.\n",
    "\n",
    "En otras palabras, la rebanada sería de esta forma:\n",
    "\n",
    "```python\n",
    "my_list[:end]\n",
    "```\n",
    "es un equivalente más compacto de:\n",
    "``` python\n",
    "my_list[0:end]\n",
    "```"
   ]
  },
  {
   "cell_type": "markdown",
   "metadata": {},
   "source": [
    "Del mismo modo, si omites el end en tu rebanada, se supone que deseas que el segmento termine en el elemento con el índice len(my_list).\n",
    "\n",
    "En otras palabras, la rebanada sería de esta forma:\n",
    "\n",
    "```python\n",
    "my_list[start:]\n",
    "```\n",
    "\n",
    "es un equivalente más compacto de:\n",
    "\n",
    "```python\n",
    "my_list[start:len(my_list)]\n",
    "```"
   ]
  },
  {
   "cell_type": "code",
   "execution_count": 1,
   "metadata": {},
   "outputs": [
    {
     "name": "stdout",
     "output_type": "stream",
     "text": [
      "[10, 4, 2]\n"
     ]
    }
   ],
   "source": [
    "lista = [10,8,6,4,2]\n",
    "del lista[1:3]\n",
    "print(lista)\n"
   ]
  },
  {
   "cell_type": "markdown",
   "metadata": {},
   "source": [
    "Al eliminar la rebanada del código, su significado cambia dramáticamente.\n",
    "\n",
    "Echa un vistazo:"
   ]
  },
  {
   "cell_type": "markdown",
   "metadata": {},
   "source": [
    "## Los operadores in y not in\n",
    "\n",
    "Python ofrece dos operadores muy poderosos, capaces de revisar la lista para verificar si un valor específico está almacenado dentro de la lista o no.\n",
    "\n",
    "Estos operadores son:\n",
    "\n",
    "``` python\n",
    "elem in my_list\n",
    "elem not in my_list\n",
    "```\n",
    "\n",
    "El primero de ellos (in) verifica si un elemento dado (el argumento izquierdo) está actualmente almacenado en algún lugar dentro de la lista (el argumento derecho) - el operador devuelve True en este caso.\n",
    "\n",
    "El segundo (not in) comprueba si un elemento dado (el argumento izquierdo) está ausente en una lista - el operador devuelve True en este caso.\n",
    "\n",
    "Observa el código en el editor. El fragmento muestra ambos operadores en acción. ¿Puedes adivinar su output? Ejecuta el programa para comprobar si tenías razón."
   ]
  },
  {
   "cell_type": "code",
   "execution_count": 4,
   "metadata": {},
   "outputs": [
    {
     "name": "stdout",
     "output_type": "stream",
     "text": [
      "True\n",
      "False\n",
      "True\n"
     ]
    }
   ],
   "source": [
    "lista = [0,3,12,8,2]\n",
    "\n",
    "print(3 in lista)\n",
    "print(10 in lista)\n",
    "print(10 not in lista)\n"
   ]
  },
  {
   "cell_type": "markdown",
   "metadata": {},
   "source": [
    "## LAB   Operaciones con listas: conceptos básicos\n",
    "\n",
    "Escenario\n",
    "Imagina una lista - no muy larga ni muy complicada, solo una lista simple que contiene algunos números enteros. Algunos de estos números pueden estar repetidos, y esta es la clave. No queremos ninguna repetición. Queremos que sean eliminados.\n",
    "\n",
    "Tu tarea es escribir un programa que elimine todas las repeticiones de números de la lista. El objetivo es tener una lista en la que todos los números aparezcan no más de una vez.\n",
    "\n",
    "Nota: Asume que la lista original está ya dentro del código - no tienes que ingresarla desde el teclado. Por supuesto, puedes mejorar el código y agregar una parte que pueda llevar a cabo una conversación con el usuario y obtener todos los datos.\n",
    "\n",
    "Sugerencia: Te recomendamos que crees una nueva lista como área de trabajo temporal - no necesitas actualizar la lista actual.\n",
    "\n",
    "No hemos proporcionado datos de prueba, ya que sería demasiado fácil. Puedes usar nuestro esqueleto en su lugar."
   ]
  },
  {
   "cell_type": "code",
   "execution_count": 5,
   "metadata": {},
   "outputs": [
    {
     "name": "stdout",
     "output_type": "stream",
     "text": [
      "La lista con elementos unicos\n",
      "[1, 2, 4, 6, 9]\n"
     ]
    }
   ],
   "source": [
    "lista = [1,2,4,4,1,4,2,6,2,9]\n",
    "listaSinRepetidos = []\n",
    "\n",
    "for elemento in lista:\n",
    "    if elemento not in listaSinRepetidos:\n",
    "        listaSinRepetidos.append(elemento)\n",
    "\n",
    "print('La lista con elementos unicos')\n",
    "del lista[:]\n",
    "lista = listaSinRepetidos\n",
    "print(lista)"
   ]
  },
  {
   "cell_type": "markdown",
   "metadata": {},
   "source": [
    "## Utilizando una funcion"
   ]
  },
  {
   "cell_type": "code",
   "execution_count": 9,
   "metadata": {},
   "outputs": [
    {
     "name": "stdout",
     "output_type": "stream",
     "text": [
      "[1, 2, 4, 6, 9]\n"
     ]
    }
   ],
   "source": [
    "def eliminar_repetidos (lista):\n",
    "    listaSinRepetidos = []\n",
    "    for elemento in lista:\n",
    "        if elemento not in listaSinRepetidos:\n",
    "            listaSinRepetidos.append(elemento)\n",
    "    return listaSinRepetidos"
   ]
  },
  {
   "cell_type": "code",
   "execution_count": 10,
   "metadata": {},
   "outputs": [
    {
     "name": "stdout",
     "output_type": "stream",
     "text": [
      "[1, 2, 4, 4, 1, 4, 2, 6, 2, 9]\n",
      "[1, 2, 4, 6, 9]\n"
     ]
    }
   ],
   "source": [
    "lista = [1,2,4,4,1,4,2,6,2,9]\n",
    "print(lista)\n",
    "\n",
    "lista = eliminar_repetidos(lista)\n",
    "\n",
    "print(lista)\n"
   ]
  },
  {
   "cell_type": "markdown",
   "metadata": {},
   "source": [
    "# Funciones Map y Filter\n",
    "\n",
    "## Map\n",
    "`map` es una función que nos ayuda a realizar este procedimiento muy fácilmente. Vamos a ver cómo funciona."
   ]
  },
  {
   "cell_type": "code",
   "execution_count": 4,
   "metadata": {},
   "outputs": [],
   "source": [
    "numeros = [1,2,3,4,5,6,7,8,9]\n"
   ]
  },
  {
   "cell_type": "markdown",
   "metadata": {},
   "source": [
    "Esto es una simple `lista` con  `ints` dentro. Ahora, digamos que queremos multiplicar cada uno de los elementos de esta lista por 2. Una manera horrible, lenta e impráctica de hacer esto sería lo siguiente:"
   ]
  },
  {
   "cell_type": "code",
   "execution_count": 17,
   "metadata": {},
   "outputs": [
    {
     "name": "stdout",
     "output_type": "stream",
     "text": [
      "[2, 4, 6, 8, 10, 12, 14, 16, 18]\n"
     ]
    }
   ],
   "source": [
    "numerosPorDos = [1,2,3,4,5,6,7,8,9]\n",
    "numerosPorDos = [\n",
    "numeros [0] * 2,\n",
    "numeros [1] * 2,\n",
    "numeros [2] * 2,\n",
    "numeros [3] * 2,\n",
    "numeros [4] * 2,\n",
    "numeros [5] * 2,\n",
    "numeros [6] * 2,\n",
    "numeros [7] * 2,\n",
    "numeros [8] * 2,    \n",
    "]\n",
    "\n",
    "print(numerosPorDos)\n",
    "\n"
   ]
  },
  {
   "cell_type": "code",
   "execution_count": 1,
   "metadata": {},
   "outputs": [],
   "source": [
    "def multiplicarPorDos(numero):\n",
    "    resultado = numero*2\n",
    "    return resultado"
   ]
  },
  {
   "cell_type": "markdown",
   "metadata": {},
   "source": [
    "Ahora, lo que hace map es lo siguiente:\n",
    "\n",
    "1. Recibe una función que queremos aplicar a una lista.\n",
    "2. Recibe una lista.\n",
    "3. Aplica la función a la lista elemento por elemento y regresa una nueva lista que contiene los elementos de la lista anterior transformados."
   ]
  },
  {
   "cell_type": "code",
   "execution_count": 5,
   "metadata": {},
   "outputs": [
    {
     "data": {
      "text/plain": [
       "<map at 0x2e725b555a0>"
      ]
     },
     "execution_count": 5,
     "metadata": {},
     "output_type": "execute_result"
    }
   ],
   "source": [
    "map(multiplicarPorDos, numeros)"
   ]
  },
  {
   "cell_type": "code",
   "execution_count": 6,
   "metadata": {},
   "outputs": [
    {
     "data": {
      "text/plain": [
       "[2, 4, 6, 8, 10, 12, 14, 16, 18]"
      ]
     },
     "execution_count": 6,
     "metadata": {},
     "output_type": "execute_result"
    }
   ],
   "source": [
    "list(map(multiplicarPorDos, numeros))"
   ]
  },
  {
   "cell_type": "code",
   "execution_count": 7,
   "metadata": {},
   "outputs": [
    {
     "data": {
      "text/plain": [
       "[2, 4, 6, 8, 10, 12, 14, 16, 18]"
      ]
     },
     "execution_count": 7,
     "metadata": {},
     "output_type": "execute_result"
    }
   ],
   "source": [
    "lista2=list(map(multiplicarPorDos, numeros))\n",
    "lista2"
   ]
  },
  {
   "cell_type": "code",
   "execution_count": 10,
   "metadata": {},
   "outputs": [
    {
     "data": {
      "text/plain": [
       "[1, 2, 3, 4, 5, 6, 7, 8, 9, 1, 2, 3, 4, 5, 6, 7, 8, 9]"
      ]
     },
     "execution_count": 10,
     "metadata": {},
     "output_type": "execute_result"
    }
   ],
   "source": [
    "numeros2 = numeros * 2\n",
    "numeros2"
   ]
  },
  {
   "cell_type": "code",
   "execution_count": 12,
   "metadata": {},
   "outputs": [
    {
     "data": {
      "text/plain": [
       "[2, 4, 6, 8, 10, 12, 14, 16, 18, 2, 4, 6, 8, 10, 12, 14, 16, 18]"
      ]
     },
     "execution_count": 12,
     "metadata": {},
     "output_type": "execute_result"
    }
   ],
   "source": [
    "list(map(multiplicarPorDos, numeros2))"
   ]
  },
  {
   "cell_type": "code",
   "execution_count": 15,
   "metadata": {},
   "outputs": [],
   "source": [
    "def esNumeroPar(numero):\n",
    "    if numero % 2 == 0:\n",
    "        return numero\n",
    "    else:\n",
    "        return 0"
   ]
  },
  {
   "cell_type": "code",
   "execution_count": 16,
   "metadata": {},
   "outputs": [
    {
     "data": {
      "text/plain": [
       "[0, 64, 0, 0, 0, 24, 66, 0, 8, 98, 0, 0, 84, 28, 96]"
      ]
     },
     "execution_count": 16,
     "metadata": {},
     "output_type": "execute_result"
    }
   ],
   "source": [
    "numeros = [35,64,7,9,45,24,66,23,8,98,67,23,84,28,96]\n",
    "list(map(esNumeroPar, numeros))"
   ]
  },
  {
   "cell_type": "markdown",
   "metadata": {},
   "source": [
    "También podemos transformar de un tipo de datos a otro. Por ejemplo, mira esta función que toma un número y lo regresa en forma de string con el signo de dinero añadido y la unidad MXN:"
   ]
  },
  {
   "cell_type": "code",
   "execution_count": 18,
   "metadata": {},
   "outputs": [],
   "source": [
    "def formatearNumeros (numero):\n",
    "    return f'${numero}MXN'"
   ]
  },
  {
   "cell_type": "code",
   "execution_count": 22,
   "metadata": {},
   "outputs": [
    {
     "data": {
      "text/plain": [
       "['$35MXN',\n",
       " '$64MXN',\n",
       " '$7MXN',\n",
       " '$9MXN',\n",
       " '$45MXN',\n",
       " '$24MXN',\n",
       " '$66MXN',\n",
       " '$23MXN',\n",
       " '$8MXN',\n",
       " '$98MXN',\n",
       " '$67MXN',\n",
       " '$23MXN',\n",
       " '$84MXN',\n",
       " '$28MXN',\n",
       " '$96MXN']"
      ]
     },
     "execution_count": 22,
     "metadata": {},
     "output_type": "execute_result"
    }
   ],
   "source": [
    "numeros = [35,64,7,9,45,24,66,23,8,98,67,23,84,28,96]\n",
    "list(map(formatearNumeros, numeros))"
   ]
  },
  {
   "cell_type": "code",
   "execution_count": null,
   "metadata": {},
   "outputs": [],
   "source": []
  }
 ],
 "metadata": {
  "kernelspec": {
   "display_name": "Python 3",
   "language": "python",
   "name": "python3"
  },
  "language_info": {
   "codemirror_mode": {
    "name": "ipython",
    "version": 3
   },
   "file_extension": ".py",
   "mimetype": "text/x-python",
   "name": "python",
   "nbconvert_exporter": "python",
   "pygments_lexer": "ipython3",
   "version": "3.12.3"
  }
 },
 "nbformat": 4,
 "nbformat_minor": 2
}
