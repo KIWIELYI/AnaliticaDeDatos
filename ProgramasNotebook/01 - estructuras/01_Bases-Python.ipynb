{
 "cells": [
  {
   "cell_type": "markdown",
   "metadata": {},
   "source": [
    "# Caracteres de escape y nueva linea"
   ]
  },
  {
   "cell_type": "code",
   "execution_count": 1,
   "metadata": {},
   "outputs": [
    {
     "name": "stdout",
     "output_type": "stream",
     "text": [
      "La witsi witsi arana\n",
      "subio a su telarana\n"
     ]
    }
   ],
   "source": [
    "print(\"La witsi witsi arana\\nsubio a su telarana\") "
   ]
  },
  {
   "cell_type": "code",
   "execution_count": 9,
   "metadata": {},
   "outputs": [
    {
     "name": "stdout",
     "output_type": "stream",
     "text": [
      "La witsi witsi arana\\la aranota\n"
     ]
    }
   ],
   "source": [
    "print(\"La witsi witsi arana\\\\la aranota\") "
   ]
  },
  {
   "cell_type": "code",
   "execution_count": 11,
   "metadata": {},
   "outputs": [
    {
     "name": "stdout",
     "output_type": "stream",
     "text": [
      "x es igual a: 10\n"
     ]
    }
   ],
   "source": [
    "x = 10\n",
    "print(\"x es igual a: \"+ str(x))"
   ]
  },
  {
   "cell_type": "code",
   "execution_count": 14,
   "metadata": {},
   "outputs": [
    {
     "name": "stdout",
     "output_type": "stream",
     "text": [
      "El valor de x es: 22\n"
     ]
    }
   ],
   "source": [
    "x = 22\n",
    "print(f\"El valor de x es: {x}\")"
   ]
  },
  {
   "cell_type": "code",
   "execution_count": 16,
   "metadata": {},
   "outputs": [
    {
     "name": "stdout",
     "output_type": "stream",
     "text": [
      "El suma de es: 57.900000000000006\n"
     ]
    }
   ],
   "source": [
    "x = 45.6\n",
    "y = 12.3\n",
    "print(f'El suma de es: {x+y}')"
   ]
  },
  {
   "cell_type": "code",
   "execution_count": 26,
   "metadata": {},
   "outputs": [
    {
     "name": "stdout",
     "output_type": "stream",
     "text": [
      "El suma de 45.6 + 12.3 es: 57.9\n",
      "La suma de 45.6 + 12.3 = 57.900000000000006\n"
     ]
    }
   ],
   "source": [
    "x = 45.6\n",
    "y = 12.3\n",
    "print(f'El suma de {x} + {y} es: {round(x+y,1)}')\n",
    "\n",
    "print('La suma de '+str(x) + ' + ' + str(y) + ' = ' + str(x +y))"
   ]
  },
  {
   "cell_type": "markdown",
   "metadata": {},
   "source": [
    "# Usando multiples argumentos"
   ]
  },
  {
   "cell_type": "code",
   "execution_count": 30,
   "metadata": {},
   "outputs": [
    {
     "name": "stdout",
     "output_type": "stream",
     "text": [
      "La araname mordio el dedo\n",
      "La arana  me mordio mis 20 dedos\n"
     ]
    }
   ],
   "source": [
    "print ('La arana' + 'me mordio el dedo')\n",
    "x = 20\n",
    "print ('La arana ', 'me mordio', 'mis', x, 'dedos')"
   ]
  },
  {
   "cell_type": "markdown",
   "metadata": {},
   "source": [
    "# Argumentos clave\n",
    "\n",
    "Python ofrece otro mecanismo para el paso de argumentos, que puede ser útil cuando deseas convencer a la función print() para que cambie un poco su comportamiento.\n",
    "\n",
    "No vamos a explicarlo en profundidad ahora. Planeamos hacerlo cuando hablemos de funciones. Por ahora, simplemente queremos mostrarte cómo funciona. Siéntete libre de usarlo en tus propios programas.\n",
    "\n",
    "El mecanismo se llama argumentos de palabras clave. El nombre proviene del hecho de que el significado de estos argumentos se toma no de su ubicación (posición) sino de la palabra especial (palabra clave) utilizada para identificarlos.\n",
    "\n",
    "La función print() tiene dos argumentos de palabra clave que puedes usar para tus propósitos. El primero se llama end."
   ]
  },
  {
   "cell_type": "code",
   "execution_count": 34,
   "metadata": {},
   "outputs": [
    {
     "name": "stdout",
     "output_type": "stream",
     "text": [
      "hola mundo*estoy aqui\n"
     ]
    }
   ],
   "source": [
    "print(\"hola mundo\", end = '*')\n",
    "print (\"estoy aqui\")"
   ]
  },
  {
   "cell_type": "code",
   "execution_count": 41,
   "metadata": {},
   "outputs": [
    {
     "name": "stdout",
     "output_type": "stream",
     "text": [
      "Hola-Como-estas-America-campion**Hola/Vaca/del corral\n",
      "Tendo arta hambre\n"
     ]
    }
   ],
   "source": [
    "print('Hola', 'Como', 'estas', 'America', 'campion', sep = '-', end='**')\n",
    "print('Hola', 'Vaca', 'del corral', sep = '/')\n",
    "print('Tendo arta hambre')"
   ]
  },
  {
   "cell_type": "markdown",
   "metadata": {},
   "source": [
    "# LAB La funcion print() y sus argumentos"
   ]
  },
  {
   "cell_type": "markdown",
   "metadata": {},
   "source": [
    "Modifica la primera línea de código en el editor, usando las palabras claves reservadas sep y end, para que se obtenga la salida esperada. Emplea dos funciones print() en el editor.\n",
    "\n",
    "No cambies nada en la segunda invocación del print()."
   ]
  },
  {
   "cell_type": "markdown",
   "metadata": {},
   "source": [
    "# Escenario"
   ]
  },
  {
   "cell_type": "markdown",
   "metadata": {},
   "source": [
    "Modifica la primera línea de código en el editor, usando las palabras claves reservadas sep y end, para que se obtenga la salida esperada. Emplea dos funciones print() en el editor.\n",
    "\n",
    "No cambies nada en la segunda invocación del print()."
   ]
  },
  {
   "cell_type": "code",
   "execution_count": 44,
   "metadata": {},
   "outputs": [
    {
     "name": "stdout",
     "output_type": "stream",
     "text": [
      "Programming***Essentials***in...python\n"
     ]
    }
   ],
   "source": [
    "print ('Programming', 'Essentials', 'in', sep='***', end='...')\n",
    "print ('python')"
   ]
  },
  {
   "cell_type": "markdown",
   "metadata": {},
   "source": [
    "# Operadores"
   ]
  },
  {
   "cell_type": "markdown",
   "metadata": {},
   "source": [
    "## Operadores Aritmeticos"
   ]
  },
  {
   "cell_type": "markdown",
   "metadata": {},
   "source": [
    "| Operador | Descripcion|\n",
    "|--|--|\n",
    "|+|Suma|\n",
    "|-|Resta|\n",
    "|*|Multiplicacion|\n",
    "|/|Division|\n",
    "|//|Division entera|\n",
    "|**|Potencia|\n"
   ]
  },
  {
   "cell_type": "markdown",
   "metadata": {},
   "source": [
    "# Ejercicio con operadores"
   ]
  },
  {
   "cell_type": "markdown",
   "metadata": {},
   "source": [
    "Usando uno de los operadores de comparación en Python, escribe un programa simple de dos líneas que tome el parámetro n como entrada, que es un entero, e imprime False si n es menor que 100, y True if n es mayor o igual que 100.\n",
    "No debes crear ningún bloque if (hablaremos de ellos muy pronto). Prueba tu código usando los datos que te proporcionamos."
   ]
  }
 ],
 "metadata": {
  "kernelspec": {
   "display_name": "Python 3",
   "language": "python",
   "name": "python3"
  },
  "language_info": {
   "codemirror_mode": {
    "name": "ipython",
    "version": 3
   },
   "file_extension": ".py",
   "mimetype": "text/x-python",
   "name": "python",
   "nbconvert_exporter": "python",
   "pygments_lexer": "ipython3",
   "version": "3.12.3"
  }
 },
 "nbformat": 4,
 "nbformat_minor": 2
}
